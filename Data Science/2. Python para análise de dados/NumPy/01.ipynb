{
 "cells": [
  {
   "cell_type": "code",
   "execution_count": 1,
   "id": "2ce7a85a-d2ba-430d-bcc1-22d70ee98574",
   "metadata": {},
   "outputs": [],
   "source": [
    "import numpy as np                # Apertar Shift + Tab para mostrar o uso de tal método"
   ]
  },
  {
   "cell_type": "markdown",
   "id": "32b6e87b-b9e3-449f-bcc3-1651970743f4",
   "metadata": {},
   "source": [
    " "
   ]
  },
  {
   "cell_type": "code",
   "execution_count": 2,
   "id": "b5633af9-03c1-4869-a197-d266b114fc16",
   "metadata": {
    "tags": []
   },
   "outputs": [],
   "source": [
    "lista = [1, 2, 3]                 # Lista vetorial"
   ]
  },
  {
   "cell_type": "markdown",
   "id": "f8def4a0-c144-4d58-9df1-ca296fb0b054",
   "metadata": {},
   "source": [
    " "
   ]
  },
  {
   "cell_type": "markdown",
   "id": "48d2c2e5-10f9-4731-a42f-48d3c0bb70a2",
   "metadata": {
    "tags": []
   },
   "source": [
    "### np.array"
   ]
  },
  {
   "cell_type": "code",
   "execution_count": 3,
   "id": "435effcf-75a2-4f78-97d3-53dd65ed1356",
   "metadata": {},
   "outputs": [
    {
     "data": {
      "text/plain": [
       "array([1, 2, 3])"
      ]
     },
     "execution_count": 3,
     "metadata": {},
     "output_type": "execute_result"
    }
   ],
   "source": [
    "np.array(lista)                   # Tranforma a lista em array do numpy"
   ]
  },
  {
   "cell_type": "code",
   "execution_count": 4,
   "id": "0cdbf77a-1003-4b39-8a65-1d970a752915",
   "metadata": {},
   "outputs": [
    {
     "data": {
      "text/plain": [
       "array([ 0,  1,  2,  3,  4,  5,  6,  7,  8,  9, 10, 11, 12, 13, 14, 15, 16,\n",
       "       17, 18, 19, 20, 21, 22, 23, 24, 25, 26, 27, 28, 29, 30, 31, 32, 33,\n",
       "       34, 35, 36, 37, 38, 39, 40, 41, 42, 43, 44, 45, 46, 47, 48, 49])"
      ]
     },
     "execution_count": 4,
     "metadata": {},
     "output_type": "execute_result"
    }
   ],
   "source": [
    "np.arange(0, 50)                  # Mesmo que range, só que como array"
   ]
  },
  {
   "cell_type": "code",
   "execution_count": 5,
   "id": "aa7d470a-183a-4d07-bb48-450b53e3c609",
   "metadata": {},
   "outputs": [
    {
     "data": {
      "text/plain": [
       "array([ 0,  1,  2,  3,  4,  5,  6,  7,  8,  9, 10, 11, 12, 13, 14, 15, 16,\n",
       "       17, 18, 19, 20, 21, 22, 23, 24, 25, 26, 27, 28, 29, 30, 31, 32, 33,\n",
       "       34, 35, 36, 37, 38, 39, 40, 41, 42, 43, 44, 45, 46, 47, 48, 49])"
      ]
     },
     "execution_count": 5,
     "metadata": {},
     "output_type": "execute_result"
    }
   ],
   "source": [
    "np.array(range(0, 50))            # Mesma coisa, mas diferente"
   ]
  },
  {
   "cell_type": "markdown",
   "id": "e924106d-e792-43df-b6ca-d3bcceebfa4c",
   "metadata": {},
   "source": [
    "  "
   ]
  },
  {
   "cell_type": "markdown",
   "id": "baf1cea4-72e1-49d0-8ad9-5bbbcdf2dc57",
   "metadata": {
    "tags": []
   },
   "source": [
    "### np.zeros - np.ones"
   ]
  },
  {
   "cell_type": "code",
   "execution_count": 6,
   "id": "96cbda1c-5104-4ec2-807c-bea68d9e6008",
   "metadata": {},
   "outputs": [
    {
     "data": {
      "text/plain": [
       "array([0., 0., 0., 0., 0.])"
      ]
     },
     "execution_count": 6,
     "metadata": {},
     "output_type": "execute_result"
    }
   ],
   "source": [
    "np.zeros(5)                       # Array com zeros"
   ]
  },
  {
   "cell_type": "code",
   "execution_count": 7,
   "id": "2ba7322b-46bf-4cd4-af46-c122cd2e7fb4",
   "metadata": {},
   "outputs": [
    {
     "data": {
      "text/plain": [
       "array([[0., 0., 0., 0., 0.],\n",
       "       [0., 0., 0., 0., 0.],\n",
       "       [0., 0., 0., 0., 0.],\n",
       "       [0., 0., 0., 0., 0.],\n",
       "       [0., 0., 0., 0., 0.]])"
      ]
     },
     "execution_count": 7,
     "metadata": {},
     "output_type": "execute_result"
    }
   ],
   "source": [
    "np.zeros((5, 5))                  # Matriz bidimensional com zeros"
   ]
  },
  {
   "cell_type": "markdown",
   "id": "34d43dd2-8de5-4c7e-b2b5-52f7e908429d",
   "metadata": {},
   "source": [
    "Se quiser uma matriz tem que mandar em uma tupla como no caso 2 dimensões a tupla (5, 5)"
   ]
  },
  {
   "cell_type": "code",
   "execution_count": 8,
   "id": "ed268e01-9b83-42a4-9c35-841d54addb4f",
   "metadata": {},
   "outputs": [
    {
     "data": {
      "text/plain": [
       "array([[1., 1., 1.],\n",
       "       [1., 1., 1.],\n",
       "       [1., 1., 1.]])"
      ]
     },
     "execution_count": 8,
     "metadata": {},
     "output_type": "execute_result"
    }
   ],
   "source": [
    "np.ones((3, 3))                   # Mesmo que zeros mas com 1's"
   ]
  },
  {
   "cell_type": "code",
   "execution_count": 9,
   "id": "4922d713-51c9-4e9d-a71b-875b6906760c",
   "metadata": {},
   "outputs": [
    {
     "data": {
      "text/plain": [
       "array([[1., 0., 0., 0.],\n",
       "       [0., 1., 0., 0.],\n",
       "       [0., 0., 1., 0.],\n",
       "       [0., 0., 0., 1.]])"
      ]
     },
     "execution_count": 9,
     "metadata": {},
     "output_type": "execute_result"
    }
   ],
   "source": [
    "np.eye(4)                         # Matriz idêntidade"
   ]
  },
  {
   "cell_type": "markdown",
   "id": "3067900a-3370-4044-a69b-9cc17b378cf2",
   "metadata": {},
   "source": [
    " "
   ]
  },
  {
   "cell_type": "markdown",
   "id": "6cf43e51-8db1-4cef-a25f-4f908d6becba",
   "metadata": {},
   "source": [
    "### np.linspace\n",
    "    np.linspace(\n",
    "        start -> Começo\n",
    "        stop  -> Fim\n",
    "        num   -> Quantos elementos na lista igualmente espaçados\n",
    "    )"
   ]
  },
  {
   "cell_type": "code",
   "execution_count": 10,
   "id": "724b6089-f581-4669-91c6-08f0862cdaff",
   "metadata": {},
   "outputs": [
    {
     "data": {
      "text/plain": [
       "array([50., 51., 52., 53., 54., 55., 56., 57., 58., 59., 60., 61., 62.,\n",
       "       63., 64., 65., 66., 67., 68., 69., 70., 71., 72., 73., 74., 75.,\n",
       "       76., 77., 78., 79., 80., 81., 82., 83., 84., 85., 86., 87., 88.,\n",
       "       89., 90.])"
      ]
     },
     "execution_count": 10,
     "metadata": {},
     "output_type": "execute_result"
    }
   ],
   "source": [
    "np.linspace(50, 90, 41)"
   ]
  },
  {
   "cell_type": "code",
   "execution_count": 11,
   "id": "09dcf76b-fd33-4be8-873d-c33b7eb2bf2f",
   "metadata": {},
   "outputs": [
    {
     "data": {
      "text/plain": [
       "array([ 5., 10., 15., 20.])"
      ]
     },
     "execution_count": 11,
     "metadata": {},
     "output_type": "execute_result"
    }
   ],
   "source": [
    "np.linspace(5, 20, 4)"
   ]
  },
  {
   "cell_type": "markdown",
   "id": "e6fe0c83-8cb4-4e48-8cc3-379801c9e825",
   "metadata": {},
   "source": [
    " "
   ]
  },
  {
   "cell_type": "markdown",
   "id": "f96a0513-abb8-4747-b8e3-fe0cf8b0a664",
   "metadata": {},
   "source": [
    "### np.random"
   ]
  },
  {
   "cell_type": "code",
   "execution_count": 12,
   "id": "28551302-9210-4f1f-9718-0c8678e097ed",
   "metadata": {},
   "outputs": [
    {
     "data": {
      "text/plain": [
       "array([0.07943227, 0.1117057 , 0.09749393, 0.4092738 , 0.33437213])"
      ]
     },
     "execution_count": 12,
     "metadata": {},
     "output_type": "execute_result"
    }
   ],
   "source": [
    "np.random.rand(5)                 # Cria 5 número de 0 a 1 com uma distribuição uniformeou \n",
    "                                  # ou seja, todos os números tem a mesma probabiliade de serem escolhidos"
   ]
  },
  {
   "cell_type": "code",
   "execution_count": 13,
   "id": "d3b015fc-dd39-43aa-86c3-249ad687f415",
   "metadata": {},
   "outputs": [
    {
     "data": {
      "text/plain": [
       "array([98.00683938, 50.44878931, 60.83661082, 72.68801871, 86.98101033])"
      ]
     },
     "execution_count": 13,
     "metadata": {},
     "output_type": "execute_result"
    }
   ],
   "source": [
    "np.random.rand(5) * 100           # O mesmo só que de 0 a 100"
   ]
  },
  {
   "cell_type": "code",
   "execution_count": 14,
   "id": "048ed273-2907-4104-8096-c48d02906631",
   "metadata": {},
   "outputs": [
    {
     "data": {
      "text/plain": [
       "array([[0.19993241, 0.19331285, 0.88076772, 0.67173078],\n",
       "       [0.16522994, 0.06847066, 0.55062109, 0.19430688],\n",
       "       [0.74038426, 0.59130382, 0.02617135, 0.28018935],\n",
       "       [0.89218058, 0.4690431 , 0.78190986, 0.29482225],\n",
       "       [0.32970431, 0.09341903, 0.65771644, 0.10079914]])"
      ]
     },
     "execution_count": 14,
     "metadata": {},
     "output_type": "execute_result"
    }
   ],
   "source": [
    "np.random.rand(5, 4)              # Nesse caso em matrizes, não precisa ser uma tupla"
   ]
  },
  {
   "cell_type": "code",
   "execution_count": 15,
   "id": "22a94d7b-edb3-4140-af89-707911f7c565",
   "metadata": {},
   "outputs": [
    {
     "data": {
      "text/plain": [
       "array([-0.49321401, -0.47048018, -0.3246903 ,  0.41709827,  0.82775799])"
      ]
     },
     "execution_count": 15,
     "metadata": {},
     "output_type": "execute_result"
    }
   ],
   "source": [
    "np.random.randn(5)                # O mesmo, só que com uma distribuição gaussiana"
   ]
  },
  {
   "cell_type": "code",
   "execution_count": 16,
   "id": "dc8a6a79-027e-42ec-9dd2-af504e1f8fcf",
   "metadata": {},
   "outputs": [
    {
     "data": {
      "text/plain": [
       "array([9, 7, 9, 0, 4, 9, 9, 4, 6, 7])"
      ]
     },
     "execution_count": 16,
     "metadata": {},
     "output_type": "execute_result"
    }
   ],
   "source": [
    "np.random.randint(0, 10, 10)      # Cria 10 números (3º parâmetro) inteiros de 0 a 10"
   ]
  },
  {
   "cell_type": "code",
   "execution_count": 17,
   "id": "ab6dc3b0-efd6-4801-96a7-37eda1e8d707",
   "metadata": {},
   "outputs": [
    {
     "data": {
      "text/plain": [
       "array([3., 6., 7., 2., 2., 8., 3., 3., 6., 6.])"
      ]
     },
     "execution_count": 17,
     "metadata": {},
     "output_type": "execute_result"
    }
   ],
   "source": [
    "np.round(np.random.rand(10) * 10, 0)   # Mesmo que randint, mas com o método rand"
   ]
  },
  {
   "cell_type": "markdown",
   "id": "1ab986fc-78c6-4c4d-9c43-3b13afc42a78",
   "metadata": {},
   "source": [
    " "
   ]
  },
  {
   "cell_type": "markdown",
   "id": "d9032016-feb1-42f0-b798-e9baaf055cee",
   "metadata": {},
   "source": [
    "### np.reshape"
   ]
  },
  {
   "cell_type": "code",
   "execution_count": 18,
   "id": "d723739d-04bc-45b5-b7d6-f48a15ca0f90",
   "metadata": {},
   "outputs": [
    {
     "data": {
      "text/plain": [
       "array([0.95511576, 0.28334214, 0.9357033 , 0.73613546, 0.53556671,\n",
       "       0.75057043, 0.26795453, 0.32529272, 0.5914901 , 0.62313483,\n",
       "       0.5012171 , 0.14635851, 0.99042831, 0.45045132, 0.81178704,\n",
       "       0.47720627, 0.11948636, 0.67367205, 0.80820542, 0.80087439,\n",
       "       0.91611167, 0.98450082, 0.32821505, 0.68831503, 0.87037805])"
      ]
     },
     "execution_count": 18,
     "metadata": {},
     "output_type": "execute_result"
    }
   ],
   "source": [
    "arr = np.random.rand(25)\n",
    "arr"
   ]
  },
  {
   "cell_type": "code",
   "execution_count": 19,
   "id": "119de6d7-e978-405e-9bbb-b92c5d6b7a16",
   "metadata": {},
   "outputs": [
    {
     "data": {
      "text/plain": [
       "array([[0.95511576, 0.28334214, 0.9357033 , 0.73613546, 0.53556671],\n",
       "       [0.75057043, 0.26795453, 0.32529272, 0.5914901 , 0.62313483],\n",
       "       [0.5012171 , 0.14635851, 0.99042831, 0.45045132, 0.81178704],\n",
       "       [0.47720627, 0.11948636, 0.67367205, 0.80820542, 0.80087439],\n",
       "       [0.91611167, 0.98450082, 0.32821505, 0.68831503, 0.87037805]])"
      ]
     },
     "execution_count": 19,
     "metadata": {},
     "output_type": "execute_result"
    }
   ],
   "source": [
    "arr = arr.reshape((5, 5))          # Precisa ser tupla e o produto deles tem que ser o tamanho do array\n",
    "                                   # Nesse caso 5 x 5 = 25\n",
    "arr"
   ]
  },
  {
   "cell_type": "code",
   "execution_count": 20,
   "id": "f18ba694-727a-4acb-ac82-84aaaddf0e1d",
   "metadata": {},
   "outputs": [
    {
     "data": {
      "text/plain": [
       "(5, 5)"
      ]
     },
     "execution_count": 20,
     "metadata": {},
     "output_type": "execute_result"
    }
   ],
   "source": [
    "arr.shape                          # Isso é o shape, o tamanho do array"
   ]
  },
  {
   "cell_type": "code",
   "execution_count": 21,
   "id": "a8d3ba04-f340-4ef9-ba80-257e1d203781",
   "metadata": {},
   "outputs": [
    {
     "data": {
      "text/plain": [
       "0.9904283107494124"
      ]
     },
     "execution_count": 21,
     "metadata": {},
     "output_type": "execute_result"
    }
   ],
   "source": [
    "arr.max()                          # Retorna o valor máximo do array"
   ]
  },
  {
   "cell_type": "code",
   "execution_count": 22,
   "id": "91f4eccf-5210-4567-a779-e798e48830d7",
   "metadata": {},
   "outputs": [
    {
     "data": {
      "text/plain": [
       "0.11948636492442477"
      ]
     },
     "execution_count": 22,
     "metadata": {},
     "output_type": "execute_result"
    }
   ],
   "source": [
    "arr.min()                          # Retorna o valor mínimodo array"
   ]
  },
  {
   "cell_type": "code",
   "execution_count": 23,
   "id": "bc904f64-0fc8-4c91-8d2f-7fad65b701ac",
   "metadata": {},
   "outputs": [
    {
     "data": {
      "text/plain": [
       "12"
      ]
     },
     "execution_count": 23,
     "metadata": {},
     "output_type": "execute_result"
    }
   ],
   "source": [
    "arr.argmax()                       # Retorna o índice do maior valor do array"
   ]
  },
  {
   "cell_type": "code",
   "execution_count": 24,
   "id": "cf9344d9-bfdb-44ec-94c1-fd0a7ff4611e",
   "metadata": {},
   "outputs": [
    {
     "data": {
      "text/plain": [
       "16"
      ]
     },
     "execution_count": 24,
     "metadata": {},
     "output_type": "execute_result"
    }
   ],
   "source": [
    "arr.argmin()                       # Retorna o índice do menor valor do array"
   ]
  }
 ],
 "metadata": {
  "kernelspec": {
   "display_name": "Python 3 (ipykernel)",
   "language": "python",
   "name": "python3"
  },
  "language_info": {
   "codemirror_mode": {
    "name": "ipython",
    "version": 3
   },
   "file_extension": ".py",
   "mimetype": "text/x-python",
   "name": "python",
   "nbconvert_exporter": "python",
   "pygments_lexer": "ipython3",
   "version": "3.9.10"
  }
 },
 "nbformat": 4,
 "nbformat_minor": 5
}
